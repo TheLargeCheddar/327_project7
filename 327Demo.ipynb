{
  "nbformat": 4,
  "nbformat_minor": 0,
  "metadata": {
    "colab": {
      "provenance": [],
      "include_colab_link": true
    },
    "kernelspec": {
      "name": "python3",
      "display_name": "Python 3"
    },
    "language_info": {
      "name": "python"
    }
  },
  "cells": [
    {
      "cell_type": "markdown",
      "metadata": {
        "id": "view-in-github",
        "colab_type": "text"
      },
      "source": [
        "<a href=\"https://colab.research.google.com/github/TheLargeCheddar/327_project7/blob/main/327Demo.ipynb\" target=\"_parent\"><img src=\"https://colab.research.google.com/assets/colab-badge.svg\" alt=\"Open In Colab\"/></a>"
      ]
    },
    {
      "cell_type": "markdown",
      "source": [
        "ensure the current working directory is /content."
      ],
      "metadata": {
        "id": "M3r_Z7fdZWRB"
      }
    },
    {
      "cell_type": "code",
      "source": [
        "!pwd"
      ],
      "metadata": {
        "colab": {
          "base_uri": "https://localhost:8080/"
        },
        "id": "ABfzCErFZRla",
        "outputId": "6094a4f4-6a7c-47e9-eacd-fd3e50b6903d"
      },
      "execution_count": 8,
      "outputs": [
        {
          "output_type": "stream",
          "name": "stdout",
          "text": [
            "/content\n"
          ]
        }
      ]
    },
    {
      "cell_type": "markdown",
      "source": [
        "in case the directory isn't in /content run this."
      ],
      "metadata": {
        "id": "s7r_H1nsaYTB"
      }
    },
    {
      "cell_type": "code",
      "source": [
        "!cd /content"
      ],
      "metadata": {
        "id": "LaPtt05MZ7dN"
      },
      "execution_count": 7,
      "outputs": []
    },
    {
      "cell_type": "markdown",
      "source": [
        "Make sure the proper libraries are installed, if they are not, use the following pip install commands."
      ],
      "metadata": {
        "id": "bpTzhdfooWYL"
      }
    },
    {
      "cell_type": "code",
      "source": [
        "!pip install numpy"
      ],
      "metadata": {
        "id": "rq97pgdCocWc"
      },
      "execution_count": null,
      "outputs": []
    },
    {
      "cell_type": "code",
      "source": [
        "!pip install pandas"
      ],
      "metadata": {
        "id": "4BglrQ2rod8E"
      },
      "execution_count": null,
      "outputs": []
    },
    {
      "cell_type": "code",
      "source": [
        "!pip install scikit-learn"
      ],
      "metadata": {
        "id": "k87KcmizogAC"
      },
      "execution_count": null,
      "outputs": []
    },
    {
      "cell_type": "code",
      "execution_count": 14,
      "metadata": {
        "id": "JeElm2_KYgLn"
      },
      "outputs": [],
      "source": [
        "# You will need spotipy library installed, as well as sklearn / pandas/ numpy\n",
        "\n",
        "import numpy as np\n",
        "import pandas as pd\n",
        "from sklearn.cluster import KMeans\n",
        "from sklearn.preprocessing import StandardScaler\n",
        "from sklearn.pipeline import Pipeline\n"
      ]
    },
    {
      "cell_type": "markdown",
      "source": [
        "the gdown library is required for installing the dataset in google colab envionment."
      ],
      "metadata": {
        "id": "V2ADMx0Dauw5"
      }
    },
    {
      "cell_type": "code",
      "source": [
        "# Install the gdown library for downloading the dataset from my google drive\n",
        "!pip install gdown"
      ],
      "metadata": {
        "id": "BGHqtjHZgrVU",
        "colab": {
          "base_uri": "https://localhost:8080/"
        },
        "outputId": "fa9b2240-17f4-4d1d-f912-c019c386538d"
      },
      "execution_count": null,
      "outputs": [
        {
          "output_type": "stream",
          "name": "stdout",
          "text": [
            "Requirement already satisfied: gdown in /usr/local/lib/python3.10/dist-packages (5.1.0)\n",
            "Requirement already satisfied: beautifulsoup4 in /usr/local/lib/python3.10/dist-packages (from gdown) (4.12.3)\n",
            "Requirement already satisfied: filelock in /usr/local/lib/python3.10/dist-packages (from gdown) (3.13.4)\n",
            "Requirement already satisfied: requests[socks] in /usr/local/lib/python3.10/dist-packages (from gdown) (2.31.0)\n",
            "Requirement already satisfied: tqdm in /usr/local/lib/python3.10/dist-packages (from gdown) (4.66.2)\n",
            "Requirement already satisfied: soupsieve>1.2 in /usr/local/lib/python3.10/dist-packages (from beautifulsoup4->gdown) (2.5)\n",
            "Requirement already satisfied: charset-normalizer<4,>=2 in /usr/local/lib/python3.10/dist-packages (from requests[socks]->gdown) (3.3.2)\n",
            "Requirement already satisfied: idna<4,>=2.5 in /usr/local/lib/python3.10/dist-packages (from requests[socks]->gdown) (3.7)\n",
            "Requirement already satisfied: urllib3<3,>=1.21.1 in /usr/local/lib/python3.10/dist-packages (from requests[socks]->gdown) (2.0.7)\n",
            "Requirement already satisfied: certifi>=2017.4.17 in /usr/local/lib/python3.10/dist-packages (from requests[socks]->gdown) (2024.2.2)\n",
            "Requirement already satisfied: PySocks!=1.5.7,>=1.5.6 in /usr/local/lib/python3.10/dist-packages (from requests[socks]->gdown) (1.7.1)\n"
          ]
        }
      ]
    },
    {
      "cell_type": "markdown",
      "source": [
        "This installs the zipped dataset into the google colab enviornment under /content"
      ],
      "metadata": {
        "id": "efYe3URco4aF"
      }
    },
    {
      "cell_type": "code",
      "source": [
        "!gdown 'https://drive.google.com/uc?id=1BJZSaYzkSW1fcrFv7rA_wKhcxChVKpr0'"
      ],
      "metadata": {
        "colab": {
          "base_uri": "https://localhost:8080/"
        },
        "id": "hs7gx4b7dh7N",
        "outputId": "b5d30957-0920-47e0-bfaa-043ac6293251"
      },
      "execution_count": 11,
      "outputs": [
        {
          "output_type": "stream",
          "name": "stdout",
          "text": [
            "Downloading...\n",
            "From: https://drive.google.com/uc?id=1BJZSaYzkSW1fcrFv7rA_wKhcxChVKpr0\n",
            "To: /content/data.zip\n",
            "100% 17.3M/17.3M [00:00<00:00, 78.0MB/s]\n"
          ]
        }
      ]
    },
    {
      "cell_type": "markdown",
      "source": [
        "this unzips the content and makes it available under /content"
      ],
      "metadata": {
        "id": "tXkXQBHhpDYa"
      }
    },
    {
      "cell_type": "code",
      "source": [
        "!unzip data.zip -d /content"
      ],
      "metadata": {
        "id": "cE_kaWedkfsi",
        "colab": {
          "base_uri": "https://localhost:8080/"
        },
        "outputId": "ebc13ea8-b43f-4b6a-c33b-c40d61125e49"
      },
      "execution_count": 12,
      "outputs": [
        {
          "output_type": "stream",
          "name": "stdout",
          "text": [
            "Archive:  data.zip\n",
            "  inflating: /content/data/data.csv  \n",
            "  inflating: /content/data/data_by_artist.csv  \n",
            "  inflating: /content/data/data_by_genres.csv  \n",
            "  inflating: /content/data/data_by_year.csv  \n",
            "  inflating: /content/data/data_w_genres.csv  \n"
          ]
        }
      ]
    },
    {
      "cell_type": "markdown",
      "source": [
        "Run the following cells for reading, clustering, and reformatting the data."
      ],
      "metadata": {
        "id": "RaQrL_uQqAPZ"
      }
    },
    {
      "cell_type": "code",
      "source": [
        "#Read data from kaggle data set # this is for google colab\n",
        "data = pd.read_csv(\"/content/data/data.csv\")\n",
        "genreData = pd.read_csv('/content/data/data_by_genres.csv')\n",
        "yearData = pd.read_csv('/content/data/data_by_year.csv')"
      ],
      "metadata": {
        "id": "stZS0s6FYmAV"
      },
      "execution_count": 15,
      "outputs": []
    },
    {
      "cell_type": "code",
      "source": [
        "from sklearn.cluster import KMeans\n",
        "from sklearn.preprocessing import StandardScaler\n",
        "from sklearn.pipeline import Pipeline\n",
        "\n",
        "#K-means clustering algorithm divides the genres in this dataset into ten clusters\n",
        "#based on audio features of each genre\n",
        "cluster_pipeline = Pipeline([('scaler', StandardScaler()), ('kmeans', KMeans(n_clusters=10))])\n",
        "X = genreData.select_dtypes(np.number)\n",
        "cluster_pipeline.fit(X)\n",
        "genreData['cluster'] = cluster_pipeline.predict(X)"
      ],
      "metadata": {
        "id": "BXiDE7dkYn5h",
        "colab": {
          "base_uri": "https://localhost:8080/"
        },
        "outputId": "2ec5f849-2931-4ff2-d699-8f59b1c01c27"
      },
      "execution_count": 16,
      "outputs": [
        {
          "output_type": "stream",
          "name": "stderr",
          "text": [
            "/usr/local/lib/python3.10/dist-packages/sklearn/cluster/_kmeans.py:870: FutureWarning: The default value of `n_init` will change from 10 to 'auto' in 1.4. Set the value of `n_init` explicitly to suppress the warning\n",
            "  warnings.warn(\n"
          ]
        }
      ]
    },
    {
      "cell_type": "code",
      "source": [
        "#K-means then divides the songs into 20 clusters\n",
        "#based on audio features of each song\n",
        "song_cluster_pipeline = Pipeline([('scaler', StandardScaler()),\n",
        "                                  ('kmeans', KMeans(n_clusters=20,\n",
        "                                   verbose=False,))\n",
        "                                 ], verbose=False)\n",
        "\n",
        "X = data.select_dtypes(np.number)\n",
        "numberCols = list(X.columns)\n",
        "song_cluster_pipeline.fit(X)\n",
        "song_cluster_labels = song_cluster_pipeline.predict(X)\n",
        "data['cluster_label'] = song_cluster_labels"
      ],
      "metadata": {
        "id": "YZMbk8SmYsK5",
        "colab": {
          "base_uri": "https://localhost:8080/"
        },
        "outputId": "32383124-930f-4913-f39f-722ff0245e5f"
      },
      "execution_count": 17,
      "outputs": [
        {
          "output_type": "stream",
          "name": "stderr",
          "text": [
            "/usr/local/lib/python3.10/dist-packages/sklearn/cluster/_kmeans.py:870: FutureWarning: The default value of `n_init` will change from 10 to 'auto' in 1.4. Set the value of `n_init` explicitly to suppress the warning\n",
            "  warnings.warn(\n"
          ]
        }
      ]
    },
    {
      "cell_type": "markdown",
      "source": [
        "You may need to install spotipy, if so run this pip install command"
      ],
      "metadata": {
        "id": "qVe_OcmyqSY1"
      }
    },
    {
      "cell_type": "code",
      "source": [
        "!pip install spotipy"
      ],
      "metadata": {
        "colab": {
          "base_uri": "https://localhost:8080/"
        },
        "id": "XY6ieU4PqYCi",
        "outputId": "bc448ba2-3aeb-4346-fd69-a4f5489c4975"
      },
      "execution_count": 19,
      "outputs": [
        {
          "output_type": "stream",
          "name": "stdout",
          "text": [
            "Collecting spotipy\n",
            "  Downloading spotipy-2.23.0-py3-none-any.whl (29 kB)\n",
            "Collecting redis>=3.5.3 (from spotipy)\n",
            "  Downloading redis-5.0.4-py3-none-any.whl (251 kB)\n",
            "\u001b[2K     \u001b[90m━━━━━━━━━━━━━━━━━━━━━━━━━━━━━━━━━━━━━━━━\u001b[0m \u001b[32m252.0/252.0 kB\u001b[0m \u001b[31m9.4 MB/s\u001b[0m eta \u001b[36m0:00:00\u001b[0m\n",
            "\u001b[?25hRequirement already satisfied: requests>=2.25.0 in /usr/local/lib/python3.10/dist-packages (from spotipy) (2.31.0)\n",
            "Requirement already satisfied: six>=1.15.0 in /usr/local/lib/python3.10/dist-packages (from spotipy) (1.16.0)\n",
            "Requirement already satisfied: urllib3>=1.26.0 in /usr/local/lib/python3.10/dist-packages (from spotipy) (2.0.7)\n",
            "Requirement already satisfied: async-timeout>=4.0.3 in /usr/local/lib/python3.10/dist-packages (from redis>=3.5.3->spotipy) (4.0.3)\n",
            "Requirement already satisfied: charset-normalizer<4,>=2 in /usr/local/lib/python3.10/dist-packages (from requests>=2.25.0->spotipy) (3.3.2)\n",
            "Requirement already satisfied: idna<4,>=2.5 in /usr/local/lib/python3.10/dist-packages (from requests>=2.25.0->spotipy) (3.7)\n",
            "Requirement already satisfied: certifi>=2017.4.17 in /usr/local/lib/python3.10/dist-packages (from requests>=2.25.0->spotipy) (2024.2.2)\n",
            "Installing collected packages: redis, spotipy\n",
            "Successfully installed redis-5.0.4 spotipy-2.23.0\n"
          ]
        }
      ]
    },
    {
      "cell_type": "code",
      "source": [
        "import spotipy\n",
        "from spotipy.oauth2 import SpotifyClientCredentials\n",
        "from collections import defaultdict\n",
        "\n",
        "#connection to spotify api\n",
        "sp = spotipy.Spotify(auth_manager=SpotifyClientCredentials(client_id=\"6829ed3b61a14b32bc343317e1978458\",\n",
        "                                                           client_secret=\"3029e57d496d4830afcc09d56be5bbc3\"))\n",
        "\n",
        "#Searches database by song and year for song, returns song data\n",
        "def findSong(name, year):\n",
        "    songData = defaultdict()\n",
        "    results = sp.search(q= 'track: {} year: {}'.format(name,year), limit=1)\n",
        "    if results['tracks']['items'] == []:\n",
        "        return None\n",
        "\n",
        "    results = results['tracks']['items'][0]\n",
        "    track_id = results['id']\n",
        "    audio_features = sp.audio_features(track_id)[0]\n",
        "\n",
        "    songData['name'] = [name]\n",
        "    songData['year'] = [year]\n",
        "    songData['explicit'] = [int(results['explicit'])]\n",
        "    songData['duration_ms'] = [results['duration_ms']]\n",
        "    songData['popularity'] = [results['popularity']]\n",
        "\n",
        "    for key, value in audio_features.items():\n",
        "        songData[key] = value\n",
        "\n",
        "    return pd.DataFrame(songData)"
      ],
      "metadata": {
        "id": "1vunpYJfYuPy"
      },
      "execution_count": 20,
      "outputs": []
    },
    {
      "cell_type": "code",
      "source": [
        "from collections import defaultdict\n",
        "from scipy.spatial.distance import cdist\n",
        "import difflib\n",
        "\n",
        "#song attributes\n",
        "numberCols = ['valence', 'year', 'acousticness', 'danceability', 'duration_ms', 'energy', 'explicit',\n",
        " 'instrumentalness', 'key', 'liveness', 'loudness', 'mode', 'popularity', 'speechiness', 'tempo']\n",
        "\n",
        "\n",
        "#Uses function findSong to locate and return data of song\n",
        "def getSongData(song, spotifyData):\n",
        "    try:\n",
        "        songData = spotifyData[(spotifyData['name'] == song['name']) & (spotifyData['year'] == song['year'])].iloc[0]\n",
        "        return songData\n",
        "    except IndexError:\n",
        "        songData = findSong(song['name'], song['year'])\n",
        "        if songData is not None:\n",
        "            songData = songData.iloc[0]\n",
        "        return songData\n",
        "\n",
        "\n",
        "#Calculates the mean (average) of the matrix along the vertical axis (axis=0)\n",
        "#resulting in a single vector that represents the average features of all included songs.\n",
        "def getMeanVector(songList, spotifyData):\n",
        "    songVectors = []\n",
        "    for song in songList:\n",
        "        songData = getSongData(song, spotifyData)\n",
        "        if songData is None:\n",
        "            print('Warning: {} does not exist in Spotify or in database'.format(song['name']))\n",
        "            continue\n",
        "        songVector = songData[numberCols].values\n",
        "        if songVector.shape[0] == len(numberCols):  # Check if song_vector has the correct length\n",
        "            songVectors.append(songVector)\n",
        "        else:\n",
        "            print('Warning: Incomplete data for {}'.format(song['name']))\n",
        "            continue\n",
        "\n",
        "    if not songVectors:\n",
        "        return None\n",
        "    songMatrix = np.array(songVectors)\n",
        "    return np.mean(songMatrix, axis=0)\n",
        "\n",
        "#reformats song dict list for use in reccomendSongs function\n",
        "def flattenDict(dict):\n",
        "\n",
        "    flattenedDict = defaultdict()\n",
        "    for key in dict[0].keys():\n",
        "        flattenedDict[key] = []\n",
        "\n",
        "    for dictionary in dict:\n",
        "        for key, value in dictionary.items():\n",
        "            flattenedDict[key].append(value)\n",
        "\n",
        "    return flattenedDict\n",
        "\n",
        "#requires song list, spotify data, and will determine the songs to reccomend. Returns 10 reccomended songs.\n",
        "def recommendSongs( songList, spotifyData, numSongs=10):\n",
        "    #print(spotify_data.head())  # Check the first few rows of the data\n",
        "    metadataCols = ['name', 'year', 'artists']\n",
        "    songDict = flattenDict(songList)\n",
        "\n",
        "    songCenter = getMeanVector(songList, spotifyData)\n",
        "    scaler = song_cluster_pipeline.steps[0][1]\n",
        "    scaledData = scaler.transform(spotifyData[numberCols])\n",
        "    scaledSongCenter = scaler.transform(songCenter.reshape(1, -1))\n",
        "    distances = cdist(scaledSongCenter, scaledData, 'cosine')\n",
        "    index = list(np.argsort(distances)[:, :numSongs][0])\n",
        "\n",
        "    #resSongs will be the resulting list of reccomended songs\n",
        "    resSongs = spotifyData.iloc[index]\n",
        "    resSongs = resSongs[~resSongs['name'].isin(songDict['name'])]\n",
        "    return resSongs[metadataCols].to_dict(orient='records')\n"
      ],
      "metadata": {
        "id": "OgvTaUT1Yv8L"
      },
      "execution_count": 21,
      "outputs": []
    },
    {
      "cell_type": "markdown",
      "source": [
        "Feel free to input your own songs into the function as long as it follows the format. The dataset is large, but If the song isn't in the dataset it won't work, you will need to change the song and rerun. the size of the input songList can vary."
      ],
      "metadata": {
        "id": "6V_VZG3qql3-"
      }
    },
    {
      "cell_type": "code",
      "source": [
        "#make sure song list format is \"name: **, year: **\"\n",
        "recommendSongs([{'name': 'Them Changes', 'year':2017},\n",
        "                {'name': 'WEIGHT OFF', 'year': 2016},\n",
        "                {'name': 'Ordinary Pleasure', 'year': 2019},\n",
        "                {'name': 'Deep Down Body Thurst', 'year': 2017},\n",
        "                {'name': 'Some', 'year': 2017}],  data)"
      ],
      "metadata": {
        "id": "gs2b9eg0YxV0",
        "colab": {
          "base_uri": "https://localhost:8080/"
        },
        "outputId": "a99fcc24-4fe7-4c62-b4cc-ef0355d10565"
      },
      "execution_count": 26,
      "outputs": [
        {
          "output_type": "stream",
          "name": "stderr",
          "text": [
            "/usr/local/lib/python3.10/dist-packages/sklearn/base.py:439: UserWarning: X does not have valid feature names, but StandardScaler was fitted with feature names\n",
            "  warnings.warn(\n"
          ]
        },
        {
          "output_type": "execute_result",
          "data": {
            "text/plain": [
              "[{'name': \"survivin'\", 'year': 2020, 'artists': \"['Bastille']\"},\n",
              " {'name': 'Dembow 2020',\n",
              "  'year': 2020,\n",
              "  'artists': \"['Yandel', 'Rauw Alejandro']\"},\n",
              " {'name': 'COMO UN BEBÉ',\n",
              "  'year': 2019,\n",
              "  'artists': \"['J Balvin', 'Bad Bunny', 'Mr Eazi']\"},\n",
              " {'name': 'Tonight Tonight', 'year': 2011, 'artists': \"['Hot Chelle Rae']\"},\n",
              " {'name': 'Singapur',\n",
              "  'year': 2020,\n",
              "  'artists': \"['El Alfa', 'Chael Produciendo']\"},\n",
              " {'name': 'Good Girl', 'year': 2020, 'artists': \"['Dustin Lynch']\"},\n",
              " {'name': 'New Man', 'year': 2017, 'artists': \"['Ed Sheeran']\"},\n",
              " {'name': 'Djadja (feat. Maluma) - Remix',\n",
              "  'year': 2020,\n",
              "  'artists': \"['Aya Nakamura', 'Maluma']\"},\n",
              " {'name': 'Créeme', 'year': 2018, 'artists': \"['KAROL G', 'Maluma']\"},\n",
              " {'name': 'Lonely If You Are', 'year': 2020, 'artists': \"['Chase Rice']\"}]"
            ]
          },
          "metadata": {},
          "execution_count": 26
        }
      ]
    }
  ]
}