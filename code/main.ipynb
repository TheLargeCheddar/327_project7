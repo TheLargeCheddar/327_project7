{
 "cells": [
  {
   "cell_type": "code",
   "execution_count": 114,
   "metadata": {},
   "outputs": [],
   "source": [
    "# You will need spotipy library installed, as well as sklearn / pandas/ numpy\n",
    "\n",
    "import numpy as np\n",
    "import pandas as pd\n",
    "from sklearn.cluster import KMeans\n",
    "from sklearn.preprocessing import StandardScaler\n",
    "from sklearn.pipeline import Pipeline\n"
   ]
  },
  {
   "cell_type": "code",
   "execution_count": 115,
   "metadata": {},
   "outputs": [],
   "source": [
    "#Read data from kaggle data set\n",
    "data = pd.read_csv(\"../data/data.csv\")\n",
    "genreData = pd.read_csv('../data/data_by_genres.csv')\n",
    "yearData = pd.read_csv('../data/data_by_year.csv')"
   ]
  },
  {
   "cell_type": "code",
   "execution_count": 116,
   "metadata": {},
   "outputs": [],
   "source": [
    "from sklearn.cluster import KMeans\n",
    "from sklearn.preprocessing import StandardScaler\n",
    "from sklearn.pipeline import Pipeline\n",
    "\n",
    "cluster_pipeline = Pipeline([('scaler', StandardScaler()), ('kmeans', KMeans(n_clusters=10))])\n",
    "X = genreData.select_dtypes(np.number)\n",
    "cluster_pipeline.fit(X)\n",
    "genreData['cluster'] = cluster_pipeline.predict(X)"
   ]
  },
  {
   "cell_type": "code",
   "execution_count": 117,
   "metadata": {},
   "outputs": [],
   "source": [
    "song_cluster_pipeline = Pipeline([('scaler', StandardScaler()), \n",
    "                                  ('kmeans', KMeans(n_clusters=20, \n",
    "                                   verbose=False,))\n",
    "                                 ], verbose=False)\n",
    "\n",
    "X = data.select_dtypes(np.number)\n",
    "numberCols = list(X.columns)\n",
    "song_cluster_pipeline.fit(X)\n",
    "song_cluster_labels = song_cluster_pipeline.predict(X)\n",
    "data['cluster_label'] = song_cluster_labels"
   ]
  },
  {
   "cell_type": "code",
   "execution_count": 118,
   "metadata": {},
   "outputs": [],
   "source": [
    "import spotipy\n",
    "from spotipy.oauth2 import SpotifyClientCredentials\n",
    "from collections import defaultdict\n",
    "\n",
    "sp = spotipy.Spotify(auth_manager=SpotifyClientCredentials(client_id=\"6829ed3b61a14b32bc343317e1978458\", \n",
    "                                                           client_secret=\"3029e57d496d4830afcc09d56be5bbc3\"))\n",
    "\n",
    "def findSong(name, year):\n",
    "    songData = defaultdict()\n",
    "    results = sp.search(q= 'track: {} year: {}'.format(name,year), limit=1)\n",
    "    if results['tracks']['items'] == []:\n",
    "        return None\n",
    "\n",
    "    results = results['tracks']['items'][0]\n",
    "    track_id = results['id']\n",
    "    audio_features = sp.audio_features(track_id)[0]\n",
    "\n",
    "    songData['name'] = [name]\n",
    "    songData['year'] = [year]\n",
    "    songData['explicit'] = [int(results['explicit'])]\n",
    "    songData['duration_ms'] = [results['duration_ms']]\n",
    "    songData['popularity'] = [results['popularity']]\n",
    "\n",
    "    for key, value in audio_features.items():\n",
    "        songData[key] = value\n",
    "\n",
    "    return pd.DataFrame(songData)"
   ]
  },
  {
   "cell_type": "code",
   "execution_count": 119,
   "metadata": {},
   "outputs": [],
   "source": [
    "from collections import defaultdict\n",
    "from scipy.spatial.distance import cdist\n",
    "import difflib\n",
    "\n",
    "numberCols = ['valence', 'year', 'acousticness', 'danceability', 'duration_ms', 'energy', 'explicit',\n",
    " 'instrumentalness', 'key', 'liveness', 'loudness', 'mode', 'popularity', 'speechiness', 'tempo']\n",
    "\n",
    "\n",
    "def getSongData(song, spotifyData):\n",
    "    try:\n",
    "        songData = spotifyData[(spotifyData['name'] == song['name']) & (spotifyData['year'] == song['year'])].iloc[0]\n",
    "        return songData\n",
    "    except IndexError:\n",
    "        songData = findSong(song['name'], song['year'])\n",
    "        if songData is not None:\n",
    "            songData = songData.iloc[0]\n",
    "        return songData\n",
    "        \n",
    "\n",
    "def getMeanVector(songList, spotifyData):\n",
    "    songVectors = []\n",
    "    for song in songList:\n",
    "        songData = getSongData(song, spotifyData)\n",
    "        if songData is None:\n",
    "            print('Warning: {} does not exist in Spotify or in database'.format(song['name']))\n",
    "            continue\n",
    "        songVector = songData[numberCols].values\n",
    "        if songVector.shape[0] == len(numberCols):  # Check if song_vector has the correct length\n",
    "            songVectors.append(songVector)\n",
    "        else:\n",
    "            print('Warning: Incomplete data for {}'.format(song['name']))\n",
    "            continue\n",
    "    \n",
    "    if not songVectors:\n",
    "        return None\n",
    "    songMatrix = np.array(songVectors)\n",
    "    return np.mean(songMatrix, axis=0)\n",
    "\n",
    "def flattenDict(dict):\n",
    "    \n",
    "    flattenedDict = defaultdict()\n",
    "    for key in dict[0].keys():\n",
    "        flattenedDict[key] = []\n",
    "    \n",
    "    for dictionary in dict:\n",
    "        for key, value in dictionary.items():\n",
    "            flattenedDict[key].append(value)\n",
    "            \n",
    "    return flattenedDict\n",
    "\n",
    "\n",
    "def recommendSongs( songList, spotifyData, numSongs=10):\n",
    "    #print(spotify_data.head())  # Check the first few rows of the data\n",
    "    metadataCols = ['name', 'year', 'artists']\n",
    "    songDict = flattenDict(songList)\n",
    "    \n",
    "    songCenter = getMeanVector(songList, spotifyData)\n",
    "    scaler = song_cluster_pipeline.steps[0][1]\n",
    "    scaledData = scaler.transform(spotifyData[numberCols])\n",
    "    scaledSongCenter = scaler.transform(songCenter.reshape(1, -1))\n",
    "    distances = cdist(scaledSongCenter, scaledData, 'cosine')\n",
    "    index = list(np.argsort(distances)[:, :numSongs][0])\n",
    "    \n",
    "    #resSongs will be the resulting list of reccomended songs\n",
    "    resSongs = spotifyData.iloc[index]\n",
    "    resSongs = resSongs[~resSongs['name'].isin(songDict['name'])]\n",
    "    return resSongs[metadataCols].to_dict(orient='records')\n"
   ]
  },
  {
   "cell_type": "code",
   "execution_count": 122,
   "metadata": {},
   "outputs": [
    {
     "data": {
      "text/plain": [
       "[{'name': 'Alone, Pt. II',\n",
       "  'year': 2019,\n",
       "  'artists': \"['Alan Walker', 'Ava Max']\"},\n",
       " {'name': 'Canyon Moon', 'year': 2019, 'artists': \"['Harry Styles']\"},\n",
       " {'name': 'Ophelia', 'year': 2016, 'artists': \"['The Lumineers']\"},\n",
       " {'name': 'hole in the bottle - ballerini album version',\n",
       "  'year': 2020,\n",
       "  'artists': \"['Kelsea Ballerini']\"},\n",
       " {'name': 'El Envidioso', 'year': 2020, 'artists': \"['Los Dos Carnales']\"},\n",
       " {'name': 'Look Up Child', 'year': 2018, 'artists': \"['Lauren Daigle']\"},\n",
       " {'name': 'Hablemos',\n",
       "  'year': 2015,\n",
       "  'artists': \"['Ariel Camacho y Los Plebes Del Rancho']\"},\n",
       " {'name': 'Sunflower - Spider-Man: Into the Spider-Verse',\n",
       "  'year': 2019,\n",
       "  'artists': \"['Post Malone', 'Swae Lee']\"},\n",
       " {'name': 'Starving',\n",
       "  'year': 2016,\n",
       "  'artists': \"['Hailee Steinfeld', 'Grey', 'Zedd']\"},\n",
       " {'name': 'One Of Them Girls', 'year': 2020, 'artists': \"['Lee Brice']\"}]"
      ]
     },
     "execution_count": 122,
     "metadata": {},
     "output_type": "execute_result"
    }
   ],
   "source": [
    "#make sure song list format is \"name: **, year: **\"\n",
    "recommend_songs([{'name': 'Them Changes', 'year':2017},\n",
    "                {'name': 'WEIGHT OFF', 'year': 2016},\n",
    "                {'name': 'Ordinary Pleasure', 'year': 2019},\n",
    "                {'name': 'Deep Down Body Thurst', 'year': 2017},\n",
    "                {'name': 'Some', 'year': 2017}],  data)"
   ]
  }
 ],
 "metadata": {
  "kernelspec": {
   "display_name": "Python 3",
   "language": "python",
   "name": "python3"
  },
  "language_info": {
   "codemirror_mode": {
    "name": "ipython",
    "version": 3
   },
   "file_extension": ".py",
   "mimetype": "text/x-python",
   "name": "python",
   "nbconvert_exporter": "python",
   "pygments_lexer": "ipython3",
   "version": "3.12.3"
  }
 },
 "nbformat": 4,
 "nbformat_minor": 2
}
